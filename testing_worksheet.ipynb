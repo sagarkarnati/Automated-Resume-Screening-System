{
  "nbformat": 4,
  "nbformat_minor": 0,
  "metadata": {
    "colab": {
      "name": "testing_worksheet.ipynb",
      "version": "0.3.2",
      "provenance": [],
      "collapsed_sections": [],
      "include_colab_link": true
    },
    "kernelspec": {
      "name": "python3",
      "display_name": "Python 3"
    }
  },
  "cells": [
    {
      "cell_type": "markdown",
      "metadata": {
        "id": "view-in-github",
        "colab_type": "text"
      },
      "source": [
        "<a href=\"https://colab.research.google.com/github/sagarkarnati/Automated-Resume-Screening-System/blob/master/testing_worksheet.ipynb\" target=\"_parent\"><img src=\"https://colab.research.google.com/assets/colab-badge.svg\" alt=\"Open In Colab\"/></a>"
      ]
    },
    {
      "metadata": {
        "id": "k-xKc3wk4K8q",
        "colab_type": "text"
      },
      "cell_type": "markdown",
      "source": [
        "Required Installations"
      ]
    },
    {
      "metadata": {
        "id": "fR_SxcRQ4Ax3",
        "colab_type": "code",
        "colab": {}
      },
      "cell_type": "code",
      "source": [
        "!pip install numpy\n",
        "!pip install textacy"
      ],
      "execution_count": 0,
      "outputs": []
    },
    {
      "metadata": {
        "id": "vhJLydgmfWt-",
        "colab_type": "code",
        "colab": {}
      },
      "cell_type": "code",
      "source": [
        "from google.colab import drive\n",
        "drive.mount('/gdrive')"
      ],
      "execution_count": 0,
      "outputs": []
    },
    {
      "metadata": {
        "id": "2mJg1w1FlBIl",
        "colab_type": "code",
        "colab": {}
      },
      "cell_type": "code",
      "source": [
        "import csv\n",
        "import textacy"
      ],
      "execution_count": 0,
      "outputs": []
    },
    {
      "metadata": {
        "id": "u_UPuiAzfoEs",
        "colab_type": "code",
        "outputId": "f49c22da-3571-46c3-9939-802b313360bb",
        "colab": {
          "base_uri": "https://localhost:8080/",
          "height": 887
        }
      },
      "cell_type": "code",
      "source": [
        "texts = textacy.io.read_text('/gdrive/My Drive/Colab Notebooks/data/Email_Subject_Dump.csv', lines=True)\n",
        "en = textacy.load_spacy('en_core_web_sm', disable=('parser',))\n",
        "for index in range(50):\n",
        "  text = next(texts)\n",
        "  text = textacy.preprocess_text(text, lowercase=True, no_punct=True)\n",
        "  doc = textacy.Doc(text, lang=en)\n",
        "  print(doc.text, list(textacy.extract.pos_regex_matches(doc, '(<ADJ> <PUNCT>? <CONJ>?)* (<NOUN>|<PROPN> <PART>?)+')))  "
      ],
      "execution_count": 37,
      "outputs": [
        {
          "output_type": "stream",
          "text": [
            "email subject [email subject]\n",
            "guidewire consultants us citizen gc or gc ead in neenah wi [guidewire consultants, ead, neenah wi]\n",
            "sr business analysts w cms or medicare experience in columbia md local only [business analysts, cms, medicare experience, columbia]\n",
            "peoplesoft financials technical developer local to chicago usc gc ead gc [financials, technical developer, usc, ead gc]\n",
            "need weblogic pure administrator at sunnyvale ca [weblogic pure administrator, sunnyvale]\n",
            "sr sql dba with power shell and aws exp at new york contract [dba, power shell, aws, new york contract]\n",
            "dynamics 365 testing at wilmington ma contract [dynamics, testing, wilmington, ma contract]\n",
            "need sap developer with bw and hana at westborough ma [sap developer, bw, hana, westborough ma]\n",
            "web developer at sanfrancisco ca contract [web developer, sanfrancisco]\n",
            "urgent req net developer at bohemia ny [urgent req, net developer, bohemia]\n",
            "java ui developer w hands on analytics experience at prussia pa contract [java, developer, hands, analytics experience, prussia, contract]\n",
            "need project manager at reston va [project manager, reston]\n",
            "urgent req java web services rest at austin tx [urgent req java web services rest, austin]\n",
            "need dev ops engineer at san antonio tx [dev ops engineer, san antonio]\n",
            "aptos point of sales system at richardson tx contract [aptos point, sales system, richardson, contract]\n",
            "project manager boston ma 6 months [project manager boston ma, months]\n",
            "immediate requirement for oracle apps technical consultant in richfield mn [immediate requirement, oracle apps, technical consultant, richfield]\n",
            "urgent req mdm integration lead need passport at atlanta ga [urgent req mdm integration lead, passport, atlanta]\n",
            "net developer at san jose ca contract [net developer, san jose]\n",
            "urgent req business systems analyst lll at richfield mn [urgent req business systems analyst, richfield]\n",
            "urgent need oracle pl sql application developer usc gc gc ead pittsburgh pa skype [oracle, sql application developer usc, gc ead pittsburgh, skype]\n",
            "position net developer || must be local to il or tx or near by [position, net developer ||, il]\n",
            "urgent req sr sap mm wm qm consultant at chicago il [urgent req sr sap mm wm, consultant, chicago]\n",
            "urgent req business systems analyst lll at richfield mn [urgent req business systems analyst, richfield]\n",
            "net developer at san jose ca contract [net developer, san jose]\n",
            "net developer at san jose ca contract [net developer, san jose]\n",
            "high priority positions [high priority positions]\n",
            "very urgent direct client need sitecore developer architect montpelier vermont [urgent direct client, sitecore developer architect montpelier vermont]\n",
            "tech lead architect role for devops with strong java background [tech lead architect role, devops, strong java background]\n",
            "job opening salesforce lead baltimore md [job, salesforce]\n",
            "17 very urgent c2c positions requirements [urgent c2c positions requirements]\n",
            "local to il or tx only for net developer ii chicago il or houston tx [il, net developer, chicago il, houston]\n",
            "net developer cms developer oakland california f2f except h1 h4 visa need local [net developer cms developer oakland california, h1 h4 visa]\n",
            "net developer cms developer oakland california f2f except h1 h4 visa need local [net developer cms developer oakland california, h1 h4 visa]\n",
            "xamarin application developer minneapolis mn urgent hiring [xamarin application developer minneapolis, urgent hiring]\n",
            "title backend developer location nyc ny [title, developer location]\n",
            "urgent position f2f oracle dba | mongo dba sunnyvale ca [urgent position, oracle, | mongo, sunnyvale]\n",
            "onsite contract position security engineer admin nj [onsite contract position security engineer admin]\n",
            "onsite contract position security engineer admin nj [onsite contract position security engineer admin]\n",
            "urgent hire for java back end developer sunnyvale ca [urgent hire, java, end developer sunnyvale]\n",
            "immediate need web developer with polymer js [immediate need web developer, polymer]\n",
            "urgent requirement of guidewire developer usc gc ead gc only in neenah wi [urgent requirement, guidewire developer usc, ead gc, neenah wi]\n",
            "urgent req oracle procure to pay functional at glendale ca w partial remote [urgent req oracle procure, glendale, partial remote]\n",
            "job offer ||state client || net architect|| st paul mn || 12 months + || [job offer, ||state client, net architect|| st paul, ||, months, ||]\n",
            "ansible developer at irving tx contract [ansible developer, irving, contract]\n",
            "urgent req net gui engineer with stingray and devexpress exp at bohemia ny [urgent req, net gui engineer, devexpress, bohemia]\n",
            "need stb developer at sunnyvale ca [stb developer, sunnyvale]\n",
            "urgent req java solutions architect usc gc tn at northbrook il [urgent req java solutions, northbrook]\n",
            "node js developer at baltimore md contract [node js developer, baltimore, contract]\n",
            "ui developer at ny contract [developer, contract]\n"
          ],
          "name": "stdout"
        }
      ]
    }
  ]
}